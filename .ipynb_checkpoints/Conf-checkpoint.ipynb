{
 "cells": [
  {
   "cell_type": "code",
   "execution_count": 1,
   "id": "53de29d7-c7df-4a55-b4c5-102b9500adf3",
   "metadata": {},
   "outputs": [],
   "source": [
    "# Configuration File"
   ]
  },
  {
   "cell_type": "code",
   "execution_count": 2,
   "id": "9f368963-e4ab-4427-949f-af4956f6834a",
   "metadata": {},
   "outputs": [],
   "source": [
    "data = {\n",
    "    \"PEST_API_URL\": \"https://api.jordbruksverket.se/rest/povapi/graderingar\",\n",
    "    \"PEST_USERNAME\": \"aiqu9neigheigaebeeP8nohh4kiengei\" ,\n",
    "    \"PEST_PASSWORD\": \"Jordbruksverket\"\n",
    "}"
   ]
  },
  {
   "cell_type": "code",
   "execution_count": 3,
   "id": "3eeeffb3-2288-4292-9ed6-0402ab3db1cb",
   "metadata": {},
   "outputs": [
    {
     "name": "stdout",
     "output_type": "stream",
     "text": [
      "Data saved successfully!\n"
     ]
    }
   ],
   "source": [
    "# Save data to pickle file\n",
    "with open(\"pest_credentials.pkl\", \"wb\") as file:\n",
    "    pickle.dump(data, file)\n",
    "\n",
    "print(\"Data saved successfully!\")"
   ]
  }
 ],
 "metadata": {
  "kernelspec": {
   "display_name": "Python 3 (ipykernel)",
   "language": "python",
   "name": "python3"
  },
  "language_info": {
   "codemirror_mode": {
    "name": "ipython",
    "version": 3
   },
   "file_extension": ".py",
   "mimetype": "text/x-python",
   "name": "python",
   "nbconvert_exporter": "python",
   "pygments_lexer": "ipython3",
   "version": "3.12.8"
  }
 },
 "nbformat": 4,
 "nbformat_minor": 5
}
